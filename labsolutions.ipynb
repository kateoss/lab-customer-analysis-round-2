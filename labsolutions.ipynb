{
 "cells": [
  {
   "cell_type": "markdown",
   "id": "8b6cb728",
   "metadata": {},
   "source": [
    "### Importing files"
   ]
  },
  {
   "cell_type": "code",
   "execution_count": 1,
   "id": "7e68b6ba",
   "metadata": {},
   "outputs": [],
   "source": [
    "import pandas as pd\n",
    "import numpy as np"
   ]
  },
  {
   "cell_type": "code",
   "execution_count": 2,
   "id": "76e65358",
   "metadata": {},
   "outputs": [],
   "source": [
    "mca_data = pd.read_csv('../lab-customer-analysis-round-2/files_for_lab/csv_files/marketing_customer_analysis.csv')"
   ]
  },
  {
   "cell_type": "markdown",
   "id": "53cd3bc5",
   "metadata": {},
   "source": [
    "### DF shape"
   ]
  },
  {
   "cell_type": "code",
   "execution_count": 3,
   "id": "68cd19ad",
   "metadata": {},
   "outputs": [
    {
     "name": "stdout",
     "output_type": "stream",
     "text": [
      "(10910, 26)\n"
     ]
    },
    {
     "data": {
      "text/html": [
       "<div>\n",
       "<style scoped>\n",
       "    .dataframe tbody tr th:only-of-type {\n",
       "        vertical-align: middle;\n",
       "    }\n",
       "\n",
       "    .dataframe tbody tr th {\n",
       "        vertical-align: top;\n",
       "    }\n",
       "\n",
       "    .dataframe thead th {\n",
       "        text-align: right;\n",
       "    }\n",
       "</style>\n",
       "<table border=\"1\" class=\"dataframe\">\n",
       "  <thead>\n",
       "    <tr style=\"text-align: right;\">\n",
       "      <th></th>\n",
       "      <th>Unnamed: 0</th>\n",
       "      <th>Customer</th>\n",
       "      <th>State</th>\n",
       "      <th>Customer Lifetime Value</th>\n",
       "      <th>Response</th>\n",
       "      <th>Coverage</th>\n",
       "      <th>Education</th>\n",
       "      <th>Effective To Date</th>\n",
       "      <th>EmploymentStatus</th>\n",
       "      <th>Gender</th>\n",
       "      <th>...</th>\n",
       "      <th>Number of Open Complaints</th>\n",
       "      <th>Number of Policies</th>\n",
       "      <th>Policy Type</th>\n",
       "      <th>Policy</th>\n",
       "      <th>Renew Offer Type</th>\n",
       "      <th>Sales Channel</th>\n",
       "      <th>Total Claim Amount</th>\n",
       "      <th>Vehicle Class</th>\n",
       "      <th>Vehicle Size</th>\n",
       "      <th>Vehicle Type</th>\n",
       "    </tr>\n",
       "  </thead>\n",
       "  <tbody>\n",
       "    <tr>\n",
       "      <th>0</th>\n",
       "      <td>0</td>\n",
       "      <td>DK49336</td>\n",
       "      <td>Arizona</td>\n",
       "      <td>4809.216960</td>\n",
       "      <td>No</td>\n",
       "      <td>Basic</td>\n",
       "      <td>College</td>\n",
       "      <td>2/18/11</td>\n",
       "      <td>Employed</td>\n",
       "      <td>M</td>\n",
       "      <td>...</td>\n",
       "      <td>0.0</td>\n",
       "      <td>9</td>\n",
       "      <td>Corporate Auto</td>\n",
       "      <td>Corporate L3</td>\n",
       "      <td>Offer3</td>\n",
       "      <td>Agent</td>\n",
       "      <td>292.800000</td>\n",
       "      <td>Four-Door Car</td>\n",
       "      <td>Medsize</td>\n",
       "      <td>NaN</td>\n",
       "    </tr>\n",
       "    <tr>\n",
       "      <th>1</th>\n",
       "      <td>1</td>\n",
       "      <td>KX64629</td>\n",
       "      <td>California</td>\n",
       "      <td>2228.525238</td>\n",
       "      <td>No</td>\n",
       "      <td>Basic</td>\n",
       "      <td>College</td>\n",
       "      <td>1/18/11</td>\n",
       "      <td>Unemployed</td>\n",
       "      <td>F</td>\n",
       "      <td>...</td>\n",
       "      <td>0.0</td>\n",
       "      <td>1</td>\n",
       "      <td>Personal Auto</td>\n",
       "      <td>Personal L3</td>\n",
       "      <td>Offer4</td>\n",
       "      <td>Call Center</td>\n",
       "      <td>744.924331</td>\n",
       "      <td>Four-Door Car</td>\n",
       "      <td>Medsize</td>\n",
       "      <td>NaN</td>\n",
       "    </tr>\n",
       "    <tr>\n",
       "      <th>2</th>\n",
       "      <td>2</td>\n",
       "      <td>LZ68649</td>\n",
       "      <td>Washington</td>\n",
       "      <td>14947.917300</td>\n",
       "      <td>No</td>\n",
       "      <td>Basic</td>\n",
       "      <td>Bachelor</td>\n",
       "      <td>2/10/11</td>\n",
       "      <td>Employed</td>\n",
       "      <td>M</td>\n",
       "      <td>...</td>\n",
       "      <td>0.0</td>\n",
       "      <td>2</td>\n",
       "      <td>Personal Auto</td>\n",
       "      <td>Personal L3</td>\n",
       "      <td>Offer3</td>\n",
       "      <td>Call Center</td>\n",
       "      <td>480.000000</td>\n",
       "      <td>SUV</td>\n",
       "      <td>Medsize</td>\n",
       "      <td>A</td>\n",
       "    </tr>\n",
       "    <tr>\n",
       "      <th>3</th>\n",
       "      <td>3</td>\n",
       "      <td>XL78013</td>\n",
       "      <td>Oregon</td>\n",
       "      <td>22332.439460</td>\n",
       "      <td>Yes</td>\n",
       "      <td>Extended</td>\n",
       "      <td>College</td>\n",
       "      <td>1/11/11</td>\n",
       "      <td>Employed</td>\n",
       "      <td>M</td>\n",
       "      <td>...</td>\n",
       "      <td>0.0</td>\n",
       "      <td>2</td>\n",
       "      <td>Corporate Auto</td>\n",
       "      <td>Corporate L3</td>\n",
       "      <td>Offer2</td>\n",
       "      <td>Branch</td>\n",
       "      <td>484.013411</td>\n",
       "      <td>Four-Door Car</td>\n",
       "      <td>Medsize</td>\n",
       "      <td>A</td>\n",
       "    </tr>\n",
       "    <tr>\n",
       "      <th>4</th>\n",
       "      <td>4</td>\n",
       "      <td>QA50777</td>\n",
       "      <td>Oregon</td>\n",
       "      <td>9025.067525</td>\n",
       "      <td>No</td>\n",
       "      <td>Premium</td>\n",
       "      <td>Bachelor</td>\n",
       "      <td>1/17/11</td>\n",
       "      <td>Medical Leave</td>\n",
       "      <td>F</td>\n",
       "      <td>...</td>\n",
       "      <td>NaN</td>\n",
       "      <td>7</td>\n",
       "      <td>Personal Auto</td>\n",
       "      <td>Personal L2</td>\n",
       "      <td>Offer1</td>\n",
       "      <td>Branch</td>\n",
       "      <td>707.925645</td>\n",
       "      <td>Four-Door Car</td>\n",
       "      <td>Medsize</td>\n",
       "      <td>NaN</td>\n",
       "    </tr>\n",
       "  </tbody>\n",
       "</table>\n",
       "<p>5 rows × 26 columns</p>\n",
       "</div>"
      ],
      "text/plain": [
       "   Unnamed: 0 Customer       State  Customer Lifetime Value Response  \\\n",
       "0           0  DK49336     Arizona              4809.216960       No   \n",
       "1           1  KX64629  California              2228.525238       No   \n",
       "2           2  LZ68649  Washington             14947.917300       No   \n",
       "3           3  XL78013      Oregon             22332.439460      Yes   \n",
       "4           4  QA50777      Oregon              9025.067525       No   \n",
       "\n",
       "   Coverage Education Effective To Date EmploymentStatus Gender  ...  \\\n",
       "0     Basic   College           2/18/11         Employed      M  ...   \n",
       "1     Basic   College           1/18/11       Unemployed      F  ...   \n",
       "2     Basic  Bachelor           2/10/11         Employed      M  ...   \n",
       "3  Extended   College           1/11/11         Employed      M  ...   \n",
       "4   Premium  Bachelor           1/17/11    Medical Leave      F  ...   \n",
       "\n",
       "   Number of Open Complaints Number of Policies     Policy Type        Policy  \\\n",
       "0                        0.0                  9  Corporate Auto  Corporate L3   \n",
       "1                        0.0                  1   Personal Auto   Personal L3   \n",
       "2                        0.0                  2   Personal Auto   Personal L3   \n",
       "3                        0.0                  2  Corporate Auto  Corporate L3   \n",
       "4                        NaN                  7   Personal Auto   Personal L2   \n",
       "\n",
       "   Renew Offer Type  Sales Channel  Total Claim Amount  Vehicle Class  \\\n",
       "0            Offer3          Agent          292.800000  Four-Door Car   \n",
       "1            Offer4    Call Center          744.924331  Four-Door Car   \n",
       "2            Offer3    Call Center          480.000000            SUV   \n",
       "3            Offer2         Branch          484.013411  Four-Door Car   \n",
       "4            Offer1         Branch          707.925645  Four-Door Car   \n",
       "\n",
       "  Vehicle Size Vehicle Type  \n",
       "0      Medsize          NaN  \n",
       "1      Medsize          NaN  \n",
       "2      Medsize            A  \n",
       "3      Medsize            A  \n",
       "4      Medsize          NaN  \n",
       "\n",
       "[5 rows x 26 columns]"
      ]
     },
     "execution_count": 3,
     "metadata": {},
     "output_type": "execute_result"
    }
   ],
   "source": [
    "#Showing the dataframe shape.\n",
    "print(mca_data.shape)\n",
    "mca_data.head()"
   ]
  },
  {
   "cell_type": "markdown",
   "id": "a193de86",
   "metadata": {},
   "source": [
    "### Header names"
   ]
  },
  {
   "cell_type": "code",
   "execution_count": 4,
   "id": "a0a3b59b",
   "metadata": {},
   "outputs": [
    {
     "data": {
      "text/plain": [
       "Index(['unnamed:_0', 'customer', 'state', 'customer_lifetime_value',\n",
       "       'response', 'coverage', 'education', 'effective_to_date',\n",
       "       'employmentstatus', 'gender', 'income', 'location_code',\n",
       "       'marital_status', 'monthly_premium_auto', 'months_since_last_claim',\n",
       "       'months_since_policy_inception', 'number_of_open_complaints',\n",
       "       'number_of_policies', 'policy_type', 'policy', 'renew_offer_type',\n",
       "       'sales_channel', 'total_claim_amount', 'vehicle_class', 'vehicle_size',\n",
       "       'vehicle_type'],\n",
       "      dtype='object')"
      ]
     },
     "execution_count": 4,
     "metadata": {},
     "output_type": "execute_result"
    }
   ],
   "source": [
    "#Standardizing header names with lower cases and underscores.\n",
    "mca_data.columns= mca_data.columns.str.lower()\n",
    "mca_data.columns = mca_data.columns.str.replace(\" \", \"_\")\n",
    "mca_data.columns"
   ]
  },
  {
   "cell_type": "code",
   "execution_count": 5,
   "id": "ea958645",
   "metadata": {},
   "outputs": [
    {
     "name": "stdout",
     "output_type": "stream",
     "text": [
      "<class 'pandas.core.frame.DataFrame'>\n",
      "RangeIndex: 10910 entries, 0 to 10909\n",
      "Data columns (total 26 columns):\n",
      " #   Column                         Non-Null Count  Dtype  \n",
      "---  ------                         --------------  -----  \n",
      " 0   unnamed:_0                     10910 non-null  int64  \n",
      " 1   customer                       10910 non-null  object \n",
      " 2   state                          10279 non-null  object \n",
      " 3   customer_lifetime_value        10910 non-null  float64\n",
      " 4   response                       10279 non-null  object \n",
      " 5   coverage                       10910 non-null  object \n",
      " 6   education                      10910 non-null  object \n",
      " 7   effective_to_date              10910 non-null  object \n",
      " 8   employmentstatus               10910 non-null  object \n",
      " 9   gender                         10910 non-null  object \n",
      " 10  income                         10910 non-null  int64  \n",
      " 11  location_code                  10910 non-null  object \n",
      " 12  marital_status                 10910 non-null  object \n",
      " 13  monthly_premium_auto           10910 non-null  int64  \n",
      " 14  months_since_last_claim        10277 non-null  float64\n",
      " 15  months_since_policy_inception  10910 non-null  int64  \n",
      " 16  number_of_open_complaints      10277 non-null  float64\n",
      " 17  number_of_policies             10910 non-null  int64  \n",
      " 18  policy_type                    10910 non-null  object \n",
      " 19  policy                         10910 non-null  object \n",
      " 20  renew_offer_type               10910 non-null  object \n",
      " 21  sales_channel                  10910 non-null  object \n",
      " 22  total_claim_amount             10910 non-null  float64\n",
      " 23  vehicle_class                  10288 non-null  object \n",
      " 24  vehicle_size                   10288 non-null  object \n",
      " 25  vehicle_type                   5428 non-null   object \n",
      "dtypes: float64(4), int64(5), object(17)\n",
      "memory usage: 2.2+ MB\n"
     ]
    }
   ],
   "source": [
    "#Checking data types for all the columns in a dataframe\n",
    "mca_data.info()"
   ]
  },
  {
   "cell_type": "markdown",
   "id": "79ed45a4",
   "metadata": {},
   "source": [
    "### Which columns are numerical?"
   ]
  },
  {
   "cell_type": "markdown",
   "id": "667169f2",
   "metadata": {},
   "source": [
    "###### \"customer_lifetime_value\", \"income\", \"monthly_premium_auto\", \"months_since_last_claim\", \"months_since_policy_inception\", \"number_of_open_complaints\", \"number_of_policies\", \"total_claim_amount\" are numerical columns."
   ]
  },
  {
   "cell_type": "markdown",
   "id": "6ccee9ef",
   "metadata": {},
   "source": [
    "### Which columns are categorical?"
   ]
  },
  {
   "cell_type": "markdown",
   "id": "7e7934e8",
   "metadata": {},
   "source": [
    "\"customer\", \"state\", \"responce\", \"coverage\", \"education\", \"effective_to_date\", \"employmentstatus\", \"gender\", \"location_code\", \"marital_status\", \"policy_type\", \"policy\", \"renew_offer_type\", \"sales_channel\", \"vehicle_class\", \"vehicle_size\", \"vehicle_type\" "
   ]
  },
  {
   "cell_type": "markdown",
   "id": "c4588a3e",
   "metadata": {},
   "source": [
    "### NaN values."
   ]
  },
  {
   "cell_type": "code",
   "execution_count": 6,
   "id": "da92c0e6",
   "metadata": {},
   "outputs": [
    {
     "data": {
      "text/plain": [
       "unnamed:_0                        0.00\n",
       "customer                          0.00\n",
       "state                             5.78\n",
       "customer_lifetime_value           0.00\n",
       "response                          5.78\n",
       "coverage                          0.00\n",
       "education                         0.00\n",
       "effective_to_date                 0.00\n",
       "employmentstatus                  0.00\n",
       "gender                            0.00\n",
       "income                            0.00\n",
       "location_code                     0.00\n",
       "marital_status                    0.00\n",
       "monthly_premium_auto              0.00\n",
       "months_since_last_claim           5.80\n",
       "months_since_policy_inception     0.00\n",
       "number_of_open_complaints         5.80\n",
       "number_of_policies                0.00\n",
       "policy_type                       0.00\n",
       "policy                            0.00\n",
       "renew_offer_type                  0.00\n",
       "sales_channel                     0.00\n",
       "total_claim_amount                0.00\n",
       "vehicle_class                     5.70\n",
       "vehicle_size                      5.70\n",
       "vehicle_type                     50.25\n",
       "dtype: float64"
      ]
     },
     "execution_count": 6,
     "metadata": {},
     "output_type": "execute_result"
    }
   ],
   "source": [
    "round(mca_data.isna().sum()/len(mca_data),4)*100"
   ]
  },
  {
   "cell_type": "markdown",
   "id": "69776899",
   "metadata": {},
   "source": [
    "There are 7 variables with some number of missing values.\n",
    "\n",
    "1.For the numerical variables (\"months since last claim\" amd \"number of open complaints\") I will use the mean of the column.\n",
    "\n",
    "2.For the categorical variables like \"state\", \"response\", \"vehicle_class\" and \"vehicle_size\" I will use the mode.\n",
    "\n",
    "3.And I will drop the column \"vehicle type\" because the % of missing values is more than 50%, and this information might be retrieved from the other columns."
   ]
  },
  {
   "cell_type": "markdown",
   "id": "e790b0a1",
   "metadata": {},
   "source": [
    "Missing values for numerical columns"
   ]
  },
  {
   "cell_type": "code",
   "execution_count": 7,
   "id": "8d91ca29",
   "metadata": {},
   "outputs": [
    {
     "name": "stdout",
     "output_type": "stream",
     "text": [
      "Mean months since last claim is: 15.149070740488469\n",
      "Mean number of open complaints is: 0.38425610586747105\n"
     ]
    }
   ],
   "source": [
    "# Calculating mean for \"months since last claim\" and filling NaNs with this value\n",
    "mean_months_since_last_claim = mca_data['months_since_last_claim'].mean()\n",
    "print(\"Mean months since last claim is:\",mean_months_since_last_claim)\n",
    "mca_data['months_since_last_claim'] = mca_data['months_since_last_claim'].fillna(mean_months_since_last_claim)\n",
    "\n",
    "# Calculating mean for \"months since last claim\" and filling NaNs with this value\n",
    "mean_number_of_open_complaints = mca_data['number_of_open_complaints'].mean()\n",
    "print(\"Mean number of open complaints is:\",mean_number_of_open_complaints)\n",
    "mca_data['number_of_open_complaints'] = mca_data['number_of_open_complaints'].fillna(mean_number_of_open_complaints)"
   ]
  },
  {
   "cell_type": "markdown",
   "id": "8cc8e25e",
   "metadata": {},
   "source": [
    "Missing values for categorical columns"
   ]
  },
  {
   "cell_type": "code",
   "execution_count": 8,
   "id": "9fe4d10c",
   "metadata": {},
   "outputs": [
    {
     "name": "stdout",
     "output_type": "stream",
     "text": [
      "California\n",
      "No\n",
      "Four-Door Car\n",
      "Medsize\n"
     ]
    }
   ],
   "source": [
    "# Defining the mode for the categorical columns\n",
    "print(mca_data[\"state\"].mode()[0])\n",
    "print(mca_data[\"response\"].mode()[0])\n",
    "print(mca_data[\"vehicle_class\"].mode()[0])\n",
    "print(mca_data[\"vehicle_size\"].mode()[0])"
   ]
  },
  {
   "cell_type": "code",
   "execution_count": 9,
   "id": "677fd2e8",
   "metadata": {},
   "outputs": [],
   "source": [
    "# Filling NaNs with the most popular value of the column\n",
    "mca_data['state'] = mca_data['state'].fillna('California')\n",
    "mca_data['response'] = mca_data['response'].fillna('No')\n",
    "mca_data['vehicle_class'] = mca_data['vehicle_class'].fillna('Four-Door Car')\n",
    "mca_data['vehicle_size'] = mca_data['vehicle_size'].fillna('Medsize')"
   ]
  },
  {
   "cell_type": "markdown",
   "id": "d549aba3",
   "metadata": {},
   "source": [
    "Dropping \"vehicle type\" column"
   ]
  },
  {
   "cell_type": "code",
   "execution_count": 10,
   "id": "58250ca6",
   "metadata": {},
   "outputs": [],
   "source": [
    "mca_data = mca_data.drop([\"vehicle_type\"], axis=1)"
   ]
  },
  {
   "cell_type": "code",
   "execution_count": 11,
   "id": "33bd92fe",
   "metadata": {},
   "outputs": [
    {
     "data": {
      "text/plain": [
       "unnamed:_0                       0.0\n",
       "customer                         0.0\n",
       "state                            0.0\n",
       "customer_lifetime_value          0.0\n",
       "response                         0.0\n",
       "coverage                         0.0\n",
       "education                        0.0\n",
       "effective_to_date                0.0\n",
       "employmentstatus                 0.0\n",
       "gender                           0.0\n",
       "income                           0.0\n",
       "location_code                    0.0\n",
       "marital_status                   0.0\n",
       "monthly_premium_auto             0.0\n",
       "months_since_last_claim          0.0\n",
       "months_since_policy_inception    0.0\n",
       "number_of_open_complaints        0.0\n",
       "number_of_policies               0.0\n",
       "policy_type                      0.0\n",
       "policy                           0.0\n",
       "renew_offer_type                 0.0\n",
       "sales_channel                    0.0\n",
       "total_claim_amount               0.0\n",
       "vehicle_class                    0.0\n",
       "vehicle_size                     0.0\n",
       "dtype: float64"
      ]
     },
     "execution_count": 11,
     "metadata": {},
     "output_type": "execute_result"
    }
   ],
   "source": [
    "# Double-checking missing values presence.\n",
    "round(mca_data.isna().sum()/len(mca_data),4)*100"
   ]
  },
  {
   "cell_type": "markdown",
   "id": "05ece8fa",
   "metadata": {},
   "source": [
    "### Datetime formating"
   ]
  },
  {
   "cell_type": "code",
   "execution_count": null,
   "id": "9ed14aad",
   "metadata": {},
   "outputs": [],
   "source": [
    "#Datetime format - Extract the months from the dataset and store in a separate column. \n",
    "#Then filter the data to show only the information for the first quarter , ie. January, February and March. #\n",
    "#Hint: If data from March does not exist, consider only January and February."
   ]
  },
  {
   "cell_type": "code",
   "execution_count": 21,
   "id": "2a4c0c49",
   "metadata": {},
   "outputs": [
    {
     "data": {
      "text/plain": [
       "1    5818\n",
       "2    5092\n",
       "Name: effective_to_month, dtype: int64"
      ]
     },
     "execution_count": 21,
     "metadata": {},
     "output_type": "execute_result"
    }
   ],
   "source": [
    "import datetime\n",
    "\n",
    "# changing dtype of \"effective to date\" column to datetime. And creating a new column to extract the month number.\n",
    "mca_data[\"effective_to_date\"] = pd.to_datetime(mca_data['effective_to_date'], errors='coerce')\n",
    "mca_data[\"effective_to_month\"] = mca_data['effective_to_date'].dt.month\n",
    "\n",
    "# checking values for the new column\n",
    "mca_data['effective_to_month'].value_counts()"
   ]
  },
  {
   "cell_type": "markdown",
   "id": "5bcc6148",
   "metadata": {},
   "source": [
    "We only have January and February in the dataset, therefore we do not need to filter it - it already contains only Q1"
   ]
  },
  {
   "cell_type": "markdown",
   "id": "943513a6",
   "metadata": {},
   "source": [
    "### BONUS: Put all the previously mentioned data transformations into a function."
   ]
  },
  {
   "cell_type": "code",
   "execution_count": 22,
   "id": "c7acd3cb",
   "metadata": {},
   "outputs": [
    {
     "name": "stdout",
     "output_type": "stream",
     "text": [
      "Index(['unnamed:_0', 'customer', 'state', 'customer_lifetime_value',\n",
      "       'response', 'coverage', 'education', 'effective_to_date',\n",
      "       'employmentstatus', 'gender', 'income', 'location_code',\n",
      "       'marital_status', 'monthly_premium_auto', 'months_since_last_claim',\n",
      "       'months_since_policy_inception', 'number_of_open_complaints',\n",
      "       'number_of_policies', 'policy_type', 'policy', 'renew_offer_type',\n",
      "       'sales_channel', 'total_claim_amount', 'vehicle_class', 'vehicle_size',\n",
      "       'effective_to_month'],\n",
      "      dtype='object')\n"
     ]
    }
   ],
   "source": [
    "# Here is a function to standardize column names, but I can´t find a way to briefly put all the other \n",
    "# data transformations in a function\n",
    "\n",
    "def data_transformation(mca_data):\n",
    "    mca_data.columns = mca_data.columns.str.lower().str.replace(' ', '_')\n",
    "    return mca_data\n",
    "    \n",
    "mca_data = data_transformation(mca_data)\n",
    "print(mca_data.columns)"
   ]
  },
  {
   "cell_type": "code",
   "execution_count": null,
   "id": "0c3b1160",
   "metadata": {},
   "outputs": [],
   "source": []
  }
 ],
 "metadata": {
  "kernelspec": {
   "display_name": "Python 3 (ipykernel)",
   "language": "python",
   "name": "python3"
  },
  "language_info": {
   "codemirror_mode": {
    "name": "ipython",
    "version": 3
   },
   "file_extension": ".py",
   "mimetype": "text/x-python",
   "name": "python",
   "nbconvert_exporter": "python",
   "pygments_lexer": "ipython3",
   "version": "3.9.13"
  }
 },
 "nbformat": 4,
 "nbformat_minor": 5
}
